{
 "cells": [
  {
   "cell_type": "code",
   "execution_count": 62,
   "id": "ae250997-c888-42dc-bf89-63f32926815d",
   "metadata": {},
   "outputs": [],
   "source": [
    "import pandas as pd\n",
    "import numpy as np\n",
    "import matplotlib.pyplot as plt"
   ]
  },
  {
   "cell_type": "code",
   "execution_count": 63,
   "id": "c7c17d60-2d39-4ee1-816d-0fbce1799f3c",
   "metadata": {},
   "outputs": [],
   "source": [
    "# read in the data frame\n",
    "df = pd.read_csv(\"dacb_kiln.tsv\", sep='\\t')"
   ]
  },
  {
   "cell_type": "code",
   "execution_count": 64,
   "id": "57c8606b-93e3-44e6-9a83-8b173e17659a",
   "metadata": {},
   "outputs": [
    {
     "data": {
      "text/html": [
       "<div>\n",
       "<style scoped>\n",
       "    .dataframe tbody tr th:only-of-type {\n",
       "        vertical-align: middle;\n",
       "    }\n",
       "\n",
       "    .dataframe tbody tr th {\n",
       "        vertical-align: top;\n",
       "    }\n",
       "\n",
       "    .dataframe thead th {\n",
       "        text-align: right;\n",
       "    }\n",
       "</style>\n",
       "<table border=\"1\" class=\"dataframe\">\n",
       "  <thead>\n",
       "    <tr style=\"text-align: right;\">\n",
       "      <th></th>\n",
       "      <th>time_ms</th>\n",
       "      <th>kiln_C</th>\n",
       "      <th>control_ms</th>\n",
       "    </tr>\n",
       "  </thead>\n",
       "  <tbody>\n",
       "    <tr>\n",
       "      <th>0</th>\n",
       "      <td>18787474</td>\n",
       "      <td>213.7800</td>\n",
       "      <td>250</td>\n",
       "    </tr>\n",
       "    <tr>\n",
       "      <th>1</th>\n",
       "      <td>18793475</td>\n",
       "      <td>213.7800</td>\n",
       "      <td>400</td>\n",
       "    </tr>\n",
       "    <tr>\n",
       "      <th>2</th>\n",
       "      <td>18798476</td>\n",
       "      <td>213.9731</td>\n",
       "      <td>400</td>\n",
       "    </tr>\n",
       "    <tr>\n",
       "      <th>3</th>\n",
       "      <td>18803477</td>\n",
       "      <td>213.9968</td>\n",
       "      <td>400</td>\n",
       "    </tr>\n",
       "    <tr>\n",
       "      <th>4</th>\n",
       "      <td>18808478</td>\n",
       "      <td>213.7768</td>\n",
       "      <td>400</td>\n",
       "    </tr>\n",
       "  </tbody>\n",
       "</table>\n",
       "</div>"
      ],
      "text/plain": [
       "    time_ms    kiln_C  control_ms\n",
       "0  18787474  213.7800         250\n",
       "1  18793475  213.7800         400\n",
       "2  18798476  213.9731         400\n",
       "3  18803477  213.9968         400\n",
       "4  18808478  213.7768         400"
      ]
     },
     "execution_count": 64,
     "metadata": {},
     "output_type": "execute_result"
    }
   ],
   "source": [
    "df.head()"
   ]
  },
  {
   "cell_type": "code",
   "execution_count": 65,
   "id": "93c3c906-e833-4cb8-89f5-fc4b49a67b63",
   "metadata": {},
   "outputs": [],
   "source": [
    "# clean up and add new colunm which is ms since t0 and another which is s since t0\n",
    "df[\"raw_time_ms\"] = df[\"time_ms\"]\n",
    "df[\"time_ms\"] = df[\"time_ms\"]- df[\"raw_time_ms\"].min()\n",
    "df[\"time_s\"] = df[\"time_ms\"] / 1000\n",
    "df[\"time_min\"] = df[\"time_s\"] / 60"
   ]
  },
  {
   "cell_type": "markdown",
   "id": "1039bad4-bb41-4a49-a785-c4f3aa275a95",
   "metadata": {},
   "source": [
    "# Process reaction curve\n",
    "## Plot of temperature vs time after the control variable change\n",
    "Control variable is PWM with a pulse width of 5000 ms (5 s).  Control variable was at 250 ms (out of 5000) and changed to 400 ms at the start of the open loop test."
   ]
  },
  {
   "cell_type": "code",
   "execution_count": 66,
   "id": "08b07f59-3879-42a1-b659-06aa966317f1",
   "metadata": {},
   "outputs": [
    {
     "data": {
      "text/plain": [
       "Text(0, 0.5, 'temperature (C)')"
      ]
     },
     "execution_count": 66,
     "metadata": {},
     "output_type": "execute_result"
    },
    {
     "data": {
      "image/png": "[encoded data removed]",
      "text/plain": [
       "<Figure size 640x480 with 1 Axes>"
      ]
     },
     "metadata": {},
     "output_type": "display_data"
    }
   ],
   "source": [
    "plt.scatter(df[\"time_s\"], df[\"kiln_C\"], alpha=.7, s=.6, color=\"magenta\")\n",
    "plt.xlabel(\"time (s) after cv change\")\n",
    "plt.ylabel(\"temperature (C)\")"
   ]
  },
  {
   "cell_type": "markdown",
   "id": "3619c03c-f6b8-4126-854a-dd9fd0938248",
   "metadata": {},
   "source": [
    "## System knowledge\n",
    "Control variable is PWM with a pulse width of 5000 ms (5 s).  Control variable was at 250 ms (out of 5000) and changed to 400 ms at the start of the open loop test. The file has stable data for one minute before any temperature change is seen and this was averagerd to calculate the baseline temperature and the last minute averge temperature was used for the response variable final value."
   ]
  },
  {
   "cell_type": "code",
   "execution_count": 67,
   "id": "c5256079-dea3-4feb-a359-ae7c814c5687",
   "metadata": {},
   "outputs": [
    {
     "name": "stdout",
     "output_type": "stream",
     "text": [
      "control variable total change was 150 (ms)\n",
      "baseline temperature was 213.92143333333334 and ultimate temperature was 316.21326666666664\n",
      "pv_delta is 102.2918333333333\n"
     ]
    }
   ],
   "source": [
    "co_delta = 400-250\n",
    "pv_baseline = df[df[\"time_s\"] < 60][\"kiln_C\"].mean()\n",
    "max_time = df[\"time_s\"].max()\n",
    "pv_ultimate = df[df[\"time_s\"] > max_time - 60][\"kiln_C\"].mean()\n",
    "pv_delta = pv_ultimate - pv_baseline\n",
    "print(f\"control variable total change was {co_delta} (ms)\")\n",
    "print(f\"baseline temperature was {pv_baseline} and ultimate temperature was {pv_ultimate}\")\n",
    "print(f\"pv_delta is {pv_delta}\")"
   ]
  },
  {
   "cell_type": "code",
   "execution_count": null,
   "id": "6c061c00-31d1-4b09-808a-57989de02cb5",
   "metadata": {},
   "outputs": [],
   "source": []
  },
  {
   "cell_type": "markdown",
   "id": "b9c35d1a-cd2f-493b-b5fd-22ff762a60dd",
   "metadata": {},
   "source": [
    "## Experimental section"
   ]
  },
  {
   "cell_type": "code",
   "execution_count": 68,
   "id": "4f25a063-a633-4a51-b6e7-356995623e8e",
   "metadata": {},
   "outputs": [],
   "source": [
    "import pandas as pd\n",
    "import numpy as np\n",
    "import matplotlib.pyplot as plt\n",
    "from scipy.signal import lti\n",
    "from scipy.optimize import curve_fit\n",
    "from ipywidgets import interact\n"
   ]
  },
  {
   "cell_type": "code",
   "execution_count": 80,
   "id": "ebe46b59-3468-40df-92b2-05bc88a49248",
   "metadata": {},
   "outputs": [
    {
     "data": {
      "application/vnd.jupyter.widget-view+json": {
       "model_id": "c6e2bbf3eae94873bd083cee71f9f4c3",
       "version_major": 2,
       "version_minor": 0
      },
      "text/plain": [
       "interactive(children=(FloatSlider(value=0.25667967069521624, description='K', max=1.0, step=0.001), IntSlider(…"
      ]
     },
     "metadata": {},
     "output_type": "display_data"
    },
    {
     "data": {
      "text/plain": [
       "<function __main__.fopdt(K=np.float64(0.25667967069521624), tau=np.int64(954), theta=0, T10=np.float64(213.5901))>"
      ]
     },
     "execution_count": 80,
     "metadata": {},
     "output_type": "execute_result"
    }
   ],
   "source": [
    "df.reset_index()\n",
    "df.set_index('time_s')\n",
    "\n",
    "T1 = df['kiln_C']\n",
    "Q1 = df['control_ms']\n",
    "t = df.index\n",
    "\n",
    "DeltaT1 = max(T1) - min(T1)\n",
    "DeltaQ1 = Q1.mean()\n",
    "\n",
    "K1 = DeltaT1/DeltaQ1\n",
    "i = (T1 - T1.min()) > 0.632*(T1.max()-T1.min())\n",
    "tau1 = T1.index[i].min()\n",
    "\n",
    "def fopdt(K=K1, tau=tau1, theta=0, T10=T1.min()):\n",
    "    def Q1(t):\n",
    "        return 0 if t < 0 else DeltaQ1\n",
    "    Q1vec = np.vectorize(Q1)\n",
    "    T1_fopdt = T10 + K*(1-np.exp(-(t-theta)/tau))*Q1vec(t-theta)\n",
    "    plt.figure(figsize=(10,5))\n",
    "    plt.subplot(2,1,1)\n",
    "    plt.plot(t,T1_fopdt)\n",
    "    plt.plot(t,df['kiln_C'])\n",
    "    plt.subplot(2,1,2)\n",
    "    plt.plot(t,T1_fopdt - T1)\n",
    "    plt.show()\n",
    "    \n",
    "interact(fopdt,K=(0,1,.001),tau=(0,2000,5),theta=(0,500,.5),T10=(1,250,.1))"
   ]
  },
  {
   "cell_type": "markdown",
   "id": "97aba65f-71cf-4984-bd95-60e8032e914b",
   "metadata": {},
   "source": [
    "## Now we have a first order with delay transfer function"
   ]
  },
  {
   "cell_type": "code",
   "execution_count": 83,
   "id": "4aceb577-221f-4441-8903-2f4933319968",
   "metadata": {},
   "outputs": [],
   "source": [
    "K=0.27\n",
    "tau=925\n",
    "theta=28.\n",
    "T10=213.6"
   ]
  },
  {
   "cell_type": "code",
   "execution_count": 84,
   "id": "0ee50101-c636-44e4-bd0b-c8e595236c4c",
   "metadata": {},
   "outputs": [],
   "source": [
    "Kc = (tau/(K*theta))*((16+((3*theta)/tau))/12)"
   ]
  },
  {
   "cell_type": "code",
   "execution_count": 85,
   "id": "550d2d1d-6665-4fec-9cfa-36bb66b91a3e",
   "metadata": {},
   "outputs": [],
   "source": [
    "t1 = (theta*(32+((6*theta)/tau)))/(13+((8*theta)/tau))"
   ]
  },
  {
   "cell_type": "code",
   "execution_count": 86,
   "id": "fcef33fe-c964-4b11-8037-eeb2da15e853",
   "metadata": {},
   "outputs": [],
   "source": [
    "td = (4*theta)/(11+((2*theta)/tau))"
   ]
  },
  {
   "cell_type": "code",
   "execution_count": 87,
   "id": "6a335178-f8c1-4a0a-9aff-f416d3f6e799",
   "metadata": {},
   "outputs": [
    {
     "name": "stdout",
     "output_type": "stream",
     "text": [
      "Kc = 164.06525573192238, t1 = 68.04669768960733, td = 10.126087381487636\n"
     ]
    }
   ],
   "source": [
    "print(f\"Kc = {Kc}, t1 = {t1}, td = {td}\")"
   ]
  },
  {
   "cell_type": "code",
   "execution_count": 88,
   "id": "50ead6d6-e981-4f36-88d7-00780fb265b3",
   "metadata": {},
   "outputs": [
    {
     "ename": "NameError",
     "evalue": "name 'Kp' is not defined",
     "output_type": "error",
     "traceback": [
      "\u001b[31m---------------------------------------------------------------------------\u001b[39m",
      "\u001b[31mNameError\u001b[39m                                 Traceback (most recent call last)",
      "\u001b[36mCell\u001b[39m\u001b[36m \u001b[39m\u001b[32mIn[88]\u001b[39m\u001b[32m, line 1\u001b[39m\n\u001b[32m----> \u001b[39m\u001b[32m1\u001b[39m \u001b[38;5;28mprint\u001b[39m(\u001b[33mf\u001b[39m\u001b[33m\"\u001b[39m\u001b[33mKp = \u001b[39m\u001b[38;5;132;01m{\u001b[39;00m\u001b[43mKp\u001b[49m\u001b[38;5;132;01m}\u001b[39;00m\u001b[33m, Ki = \u001b[39m\u001b[38;5;132;01m{\u001b[39;00mKi\u001b[38;5;132;01m}\u001b[39;00m\u001b[33m, Kd = \u001b[39m\u001b[38;5;132;01m{\u001b[39;00mKd\u001b[38;5;132;01m}\u001b[39;00m\u001b[33m\"\u001b[39m)\n",
      "\u001b[31mNameError\u001b[39m: name 'Kp' is not defined"
     ]
    }
   ],
   "source": [
    "Kp = Kc\n",
    "Ki = Kc /\n",
    "print(f\"Kp = {Kp}, Ki = {Ki}, Kd = {Kd}\")"
   ]
  },
  {
   "cell_type": "code",
   "execution_count": null,
   "id": "d04ff690-8711-4743-8b0b-ffc11efb26d2",
   "metadata": {},
   "outputs": [],
   "source": []
  }
 ],
 "metadata": {
  "kernelspec": {
   "display_name": "Python 3 (ipykernel)",
   "language": "python",
   "name": "python3"
  },
  "language_info": {
   "codemirror_mode": {
    "name": "ipython",
    "version": 3
   },
   "file_extension": ".py",
   "mimetype": "text/x-python",
   "name": "python",
   "nbconvert_exporter": "python",
   "pygments_lexer": "ipython3",
   "version": "3.11.11"
  }
 },
 "nbformat": 4,
 "nbformat_minor": 5
}
